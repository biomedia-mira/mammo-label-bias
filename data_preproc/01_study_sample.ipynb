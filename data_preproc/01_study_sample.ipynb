{
 "cells": [
  {
   "cell_type": "markdown",
   "metadata": {},
   "source": [
    "### Merge clinical and meta data"
   ]
  },
  {
   "cell_type": "code",
   "execution_count": 21,
   "metadata": {},
   "outputs": [
    {
     "name": "stderr",
     "output_type": "stream",
     "text": [
      "/tmp/ipykernel_139589/469899571.py:5: DtypeWarning: Columns (27,28) have mixed types. Specify dtype option on import or set low_memory=False.\n",
      "  df_meta = pd.read_csv('/vol/biomedic3/bglocker/mammo/mammo-net/data/EMBED_OpenData_metadata_reduced.csv')\n",
      "/tmp/ipykernel_139589/469899571.py:6: DtypeWarning: Columns (20) have mixed types. Specify dtype option on import or set low_memory=False.\n",
      "  df_clinical = pd.read_csv('/vol/biomedic3/bglocker/mammo/mammo-net/data/EMBED_OpenData_clinical_reduced.csv')\n",
      "/tmp/ipykernel_139589/469899571.py:10: FutureWarning: Series.__getitem__ treating keys as positions is deprecated. In a future version, integer keys will always be treated as labels (consistent with DataFrame behavior). To access a value by position, use `ser.iloc[pos]`\n",
      "  df_merged['image_path'] = df_merged[['empi_anon', 'anon_dicom_path']].apply(lambda x: os.path.join(str(x[0]), f\"{Path(x[1]).stem}.png\"), axis=1)\n"
     ]
    }
   ],
   "source": [
    "import os\n",
    "import pandas as pd\n",
    "from pathlib import Path\n",
    "\n",
    "df_meta = pd.read_csv('/vol/biomedic3/bglocker/mammo/mammo-net/data/EMBED_OpenData_metadata_reduced.csv')\n",
    "df_clinical = pd.read_csv('/vol/biomedic3/bglocker/mammo/mammo-net/data/EMBED_OpenData_clinical_reduced.csv')\n",
    "\n",
    "df_merged = pd.merge(df_meta, df_clinical, on=['empi_anon','acc_anon'])\n",
    "\n",
    "df_merged['image_path'] = df_merged[['empi_anon', 'anon_dicom_path']].apply(lambda x: os.path.join(str(x[0]), f\"{Path(x[1]).stem}.png\"), axis=1)"
   ]
  },
  {
   "cell_type": "markdown",
   "metadata": {},
   "source": [
    "### Split into left/right images, and remove rows where finding and image laterality mismatch"
   ]
  },
  {
   "cell_type": "code",
   "execution_count": 22,
   "metadata": {},
   "outputs": [],
   "source": [
    "df_left = df_merged[df_merged.ImageLateralityFinal == 'L'].reset_index()\n",
    "df_right = df_merged[df_merged.ImageLateralityFinal == 'R'].reset_index()\n",
    "df_left.drop(df_left[df_left.side == 'R'].index, inplace=True)\n",
    "df_right.drop(df_right[df_right.side == 'L'].index, inplace=True)\n",
    "df_images = pd.concat([df_left.reset_index(), df_right.reset_index()])\n",
    "df_images = pd.concat([df_left, df_right], ignore_index=True)\n",
    "df_images['is_positive'] = 0"
   ]
  },
  {
   "cell_type": "code",
   "execution_count": 23,
   "metadata": {},
   "outputs": [],
   "source": [
    "df_images.drop(df_images[df_images.asses == 'X'].index, inplace=True)\n",
    "df_images.drop(df_images[(df_images.asses == 'A') & (df_images.path_severity.isna())].index, inplace=True)"
   ]
  },
  {
   "cell_type": "code",
   "execution_count": 24,
   "metadata": {},
   "outputs": [],
   "source": [
    "images_path_result = (df_images.ImageLateralityFinal == df_images.bside) | (df_images.bside == 'B')"
   ]
  },
  {
   "cell_type": "markdown",
   "metadata": {},
   "source": [
    "### Non-negatives"
   ]
  },
  {
   "cell_type": "code",
   "execution_count": null,
   "metadata": {},
   "outputs": [],
   "source": [
    "df_images.loc[images_path_result & (df_images.path_severity.isin([0,1,2,3,4])), 'is_positive'] = 1\n",
    "df_images.loc[df_images.asses.isin(['B','P','S','M','K']), 'is_positive'] = 1\n",
    "out_filename = 'data/embed-non-negative.csv'"
   ]
  },
  {
   "cell_type": "markdown",
   "metadata": {},
   "source": []
  }
 ],
 "metadata": {
  "kernelspec": {
   "display_name": "mammo",
   "language": "python",
   "name": "python3"
  },
  "language_info": {
   "codemirror_mode": {
    "name": "ipython",
    "version": 3
   },
   "file_extension": ".py",
   "mimetype": "text/x-python",
   "name": "python",
   "nbconvert_exporter": "python",
   "pygments_lexer": "ipython3",
   "version": "3.13.2"
  }
 },
 "nbformat": 4,
 "nbformat_minor": 2
}
