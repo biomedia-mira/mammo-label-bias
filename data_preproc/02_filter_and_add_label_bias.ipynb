{
 "cells": [
  {
   "cell_type": "code",
   "execution_count": null,
   "id": "c1c36046",
   "metadata": {},
   "outputs": [],
   "source": [
    "import pandas as pd\n",
    "import numpy as np\n",
    "import matplotlib.pyplot as plt"
   ]
  },
  {
   "cell_type": "code",
   "execution_count": 26,
   "id": "a0c1587a",
   "metadata": {},
   "outputs": [
    {
     "name": "stderr",
     "output_type": "stream",
     "text": [
      "/tmp/ipykernel_2278882/2579998954.py:1: DtypeWarning: Columns (30,31,50) have mixed types. Specify dtype option on import or set low_memory=False.\n",
      "  df = pd.read_csv('/vol/biomedic3/bglocker/mammo/mammo-net/data/embed-non-negative.csv')\n"
     ]
    }
   ],
   "source": [
    "df = pd.read_csv('/vol/biomedic3/bglocker/mammo/mammo-net/data/embed-non-negative.csv')"
   ]
  },
  {
   "cell_type": "markdown",
   "id": "e3982ab2",
   "metadata": {},
   "source": [
    "### 1. filter data\n",
    "* keep only top 3 manufacturers\n",
    "* remove subjects w/ more than one density value assigned to them \n",
    "* add pseudo-subgroup labels\n",
    "* balance binary density classes"
   ]
  },
  {
   "cell_type": "code",
   "execution_count": 27,
   "id": "bc82745b",
   "metadata": {},
   "outputs": [],
   "source": [
    "#  filtering\n",
    "\n",
    "# FFDM only\n",
    "df = df[df['FinalImageType'] == '2D']\n",
    "\n",
    "# Female only\n",
    "df = df[df['GENDER_DESC'] == 'Female']\n",
    "\n",
    "# Remove unclear breast density cases\n",
    "df = df[df['tissueden'].notna()]\n",
    "df = df[df['tissueden'] < 5]\n",
    "\n",
    "# MLO and CC only        \n",
    "df = df[df['ViewPosition'].isin(['MLO','CC'])]\n",
    "\n",
    "# Remove spot compression or magnificiation\n",
    "df = df[df['spot_mag'].isna()]"
   ]
  },
  {
   "cell_type": "code",
   "execution_count": 28,
   "id": "0882b65c",
   "metadata": {},
   "outputs": [],
   "source": [
    "#binarize density \n",
    "df['density_binary'] = 0\n",
    "\n",
    "df.loc[df['tissueden'] == 1, 'density_binary'] = 0\n",
    "df.loc[df['tissueden'] == 2, 'density_binary'] = 0\n",
    "df.loc[df['tissueden'] == 3, 'density_binary'] = 1\n",
    "df.loc[df['tissueden'] == 4, 'density_binary'] = 1"
   ]
  },
  {
   "cell_type": "code",
   "execution_count": 29,
   "id": "12a581cf",
   "metadata": {},
   "outputs": [
    {
     "name": "stdout",
     "output_type": "stream",
     "text": [
      "density\n",
      "B    108146\n",
      "C    100353\n",
      "A     29947\n",
      "D     13007\n",
      "Name: count, dtype: int64\n",
      "density_binary\n",
      "0    138093\n",
      "1    113360\n",
      "Name: count, dtype: int64\n"
     ]
    }
   ],
   "source": [
    "print(df.density.value_counts(dropna=False))\n",
    "print(df.density_binary.value_counts(dropna=False))"
   ]
  },
  {
   "cell_type": "code",
   "execution_count": 30,
   "id": "57411e8f",
   "metadata": {},
   "outputs": [
    {
     "name": "stdout",
     "output_type": "stream",
     "text": [
      "Manufacturer\n",
      "HOLOGIC, Inc.           0.890250\n",
      "GE MEDICAL SYSTEMS      0.083173\n",
      "FUJIFILM Corporation    0.024915\n",
      "GE HEALTHCARE           0.001662\n",
      "Name: proportion, dtype: float64\n"
     ]
    }
   ],
   "source": [
    "print(df.Manufacturer.value_counts(dropna=False, normalize=True))"
   ]
  },
  {
   "cell_type": "code",
   "execution_count": 31,
   "id": "b1fbfdf9",
   "metadata": {},
   "outputs": [],
   "source": [
    "# remove GE HEALTHCARE\n",
    "df = df[df['Manufacturer']!='GE HEALTHCARE']"
   ]
  },
  {
   "cell_type": "code",
   "execution_count": 32,
   "id": "e9cb7f61",
   "metadata": {},
   "outputs": [
    {
     "name": "stdout",
     "output_type": "stream",
     "text": [
      "Manufacturer\n",
      "HOLOGIC, Inc.           0.891732\n",
      "GE MEDICAL SYSTEMS      0.083311\n",
      "FUJIFILM Corporation    0.024957\n",
      "Name: proportion, dtype: float64\n",
      "Manufacturer\n",
      "HOLOGIC, Inc.           223856\n",
      "GE MEDICAL SYSTEMS       20914\n",
      "FUJIFILM Corporation      6265\n",
      "Name: count, dtype: int64\n"
     ]
    }
   ],
   "source": [
    "print(df.Manufacturer.value_counts(dropna=False, normalize=True))\n",
    "print(df.Manufacturer.value_counts(dropna=False))"
   ]
  },
  {
   "cell_type": "code",
   "execution_count": null,
   "id": "13daf4f7",
   "metadata": {},
   "outputs": [
    {
     "name": "stdout",
     "output_type": "stream",
     "text": [
      "22741\n",
      "20760\n"
     ]
    }
   ],
   "source": [
    "# check if all subjects have a single value for density\n",
    "\n",
    "attr = 'density'\n",
    "check = df.groupby('empi_anon', as_index=False)[attr].nunique()\n",
    "print(check.density.sum())\n",
    "print(len(check))"
   ]
  },
  {
   "cell_type": "code",
   "execution_count": null,
   "id": "2b33da4f",
   "metadata": {},
   "outputs": [
    {
     "name": "stdout",
     "output_type": "stream",
     "text": [
      "density\n",
      "1    18788\n",
      "2     1963\n",
      "3        9\n",
      "Name: count, dtype: int64\n"
     ]
    }
   ],
   "source": [
    "# they don't - see how many subjects have more than one density value assigned\n",
    "print(check.density.value_counts())"
   ]
  },
  {
   "cell_type": "code",
   "execution_count": 36,
   "id": "ff28a511",
   "metadata": {},
   "outputs": [
    {
     "name": "stdout",
     "output_type": "stream",
     "text": [
      "0        10000879\n",
      "1        10009146\n",
      "2        10015693\n",
      "3        10019048\n",
      "4        10023113\n",
      "           ...   \n",
      "20755    99967713\n",
      "20756    99980766\n",
      "20757    99986224\n",
      "20758    99996622\n",
      "20759    99999564\n",
      "Name: empi_anon, Length: 18788, dtype: int64\n",
      "18788\n"
     ]
    }
   ],
   "source": [
    "# only include subjects with a single density value\n",
    "single_density_ids = check[check['density']==1]['empi_anon']\n",
    "print(single_density_ids)\n",
    "print(len(single_density_ids))"
   ]
  },
  {
   "cell_type": "code",
   "execution_count": 37,
   "id": "a8c5003c",
   "metadata": {},
   "outputs": [
    {
     "name": "stdout",
     "output_type": "stream",
     "text": [
      "18788\n",
      "18788\n"
     ]
    }
   ],
   "source": [
    "df = df[df['empi_anon'].isin(single_density_ids)]\n",
    "\n",
    "check = df.groupby('empi_anon', as_index=False)[attr].nunique()\n",
    "print(check.density.sum())\n",
    "print(len(check))"
   ]
  },
  {
   "cell_type": "code",
   "execution_count": 38,
   "id": "11717133",
   "metadata": {},
   "outputs": [],
   "source": [
    "# add pseudo-subgroup labels \n",
    "df['pseudo_subgroup'] = np.random.randint(low=0, high=3, size = len(df))"
   ]
  },
  {
   "cell_type": "code",
   "execution_count": 39,
   "id": "5a0e9461",
   "metadata": {},
   "outputs": [
    {
     "data": {
      "text/plain": [
       "pseudo_subgroup\n",
       "2    70429\n",
       "0    70329\n",
       "1    70215\n",
       "Name: count, dtype: int64"
      ]
     },
     "execution_count": 39,
     "metadata": {},
     "output_type": "execute_result"
    }
   ],
   "source": [
    "df.pseudo_subgroup.value_counts()"
   ]
  },
  {
   "cell_type": "code",
   "execution_count": 42,
   "id": "721b05da",
   "metadata": {},
   "outputs": [
    {
     "name": "stdout",
     "output_type": "stream",
     "text": [
      "density\n",
      "B    91658\n",
      "C    86570\n",
      "A    23270\n",
      "D     9475\n",
      "Name: count, dtype: int64\n",
      "density_binary\n",
      "0    114928\n",
      "1     96045\n",
      "Name: count, dtype: int64\n"
     ]
    }
   ],
   "source": [
    "print(df.density.value_counts(dropna=False))\n",
    "print(df.density_binary.value_counts(dropna=False))"
   ]
  },
  {
   "cell_type": "code",
   "execution_count": 48,
   "id": "c32dd458",
   "metadata": {},
   "outputs": [],
   "source": [
    "# undersample to balance classes\n",
    "\n",
    "def undersample_class(df, label_to_undersample, n_to_drop):\n",
    "\n",
    "    n_0 = df.density_binary.value_counts(dropna=False).iloc[0]\n",
    "    n_1 = df.density_binary.value_counts(dropna=False).iloc[1]\n",
    "    print(f'original ratio: {n_1/n_0}')\n",
    "\n",
    "\n",
    "    class_df = df.loc[df['density_binary']==label_to_undersample]\n",
    "    # print(len(class_df))\n",
    "    inds = class_df.sample(n=n_to_drop, random_state=42).index\n",
    "\n",
    "\n",
    "    df = df.drop(inds)\n",
    "\n",
    "    # print(df.density_binary.value_counts())\n",
    "\n",
    "    n_0 = df.density_binary.value_counts(dropna=False).iloc[0]\n",
    "    n_1 = df.density_binary.value_counts(dropna=False).iloc[1]\n",
    "    print(f'new ratio: {n_1/n_0}')\n",
    "\n",
    "    return df"
   ]
  },
  {
   "cell_type": "code",
   "execution_count": 49,
   "id": "b6734c43",
   "metadata": {},
   "outputs": [
    {
     "name": "stdout",
     "output_type": "stream",
     "text": [
      "114928\n",
      "96045\n"
     ]
    }
   ],
   "source": [
    "n_0 = df.density_binary.value_counts(dropna=False).iloc[0]\n",
    "n_1 = df.density_binary.value_counts(dropna=False).iloc[1]\n",
    "print(n_0)\n",
    "print(n_1)"
   ]
  },
  {
   "cell_type": "code",
   "execution_count": 50,
   "id": "5bcef5c0",
   "metadata": {},
   "outputs": [
    {
     "name": "stdout",
     "output_type": "stream",
     "text": [
      "original ratio: 0.8356971321174996\n",
      "new ratio: 1.0\n",
      "density_binary\n",
      "1    96045\n",
      "0    96045\n",
      "Name: count, dtype: int64\n"
     ]
    }
   ],
   "source": [
    "n_0_to_drop = n_0-n_1\n",
    "df1 = df.copy()\n",
    "df1 = undersample_class(df1, 0, n_0_to_drop)\n",
    "print(df1.density_binary.value_counts())"
   ]
  },
  {
   "cell_type": "code",
   "execution_count": null,
   "id": "d10db47a",
   "metadata": {},
   "outputs": [],
   "source": [
    "# save baseline dataframe\n",
    "df1.to_csv('/vol/biomedic3/es525/mammo-label-bias/modified_metadata/embed-non-negative_singledensity_3manu_pseudo_balanced.csv')"
   ]
  },
  {
   "cell_type": "markdown",
   "id": "408d24ad",
   "metadata": {},
   "source": [
    "### 2. add label bias"
   ]
  },
  {
   "cell_type": "code",
   "execution_count": 57,
   "id": "3ac036b8",
   "metadata": {},
   "outputs": [],
   "source": [
    "def add_subgroup_label_bias_to_subclass(df, initial_subclass_label, target_class_label, bias_proportion, attribute, subgroup):\n",
    "\n",
    "    # get df w/ desired initial density subclass label + attribute combination\n",
    "    filtered_df = df.loc[(df['density']==initial_subclass_label)&(df[attribute]==subgroup)]\n",
    "\n",
    "    # one row per subject\n",
    "    subjects_df = filtered_df.drop_duplicates(subset=['empi_anon'])\n",
    "\n",
    "    print(f'number of unique IDS: {len(subjects_df)}')\n",
    "    print(f'number of images corresponding to unique IDs = {len(filtered_df[filtered_df['empi_anon'].isin(subjects_df['empi_anon'].values)])}')\n",
    "\n",
    "    # sample desired amount of those subjects to have wrong labels \n",
    "    sample_df = subjects_df.sample(frac=bias_proportion, random_state=42)\n",
    "    sample_ids = sample_df['empi_anon'].values\n",
    "\n",
    "    final_sample = filtered_df[filtered_df['empi_anon'].isin(sample_ids)]\n",
    "    final_sample_idx = final_sample.index # indices to change biased target for\n",
    "\n",
    "    print(f'sample: {bias_proportion} of {len(subjects_df)} = {len(sample_ids)}')\n",
    "    print(f'number of images corresponding to {len(sample_ids)} unique IDs = {len(final_sample)}')\n",
    "\n",
    "    # change targets for all images in subject sample\n",
    "    df.loc[:, 'biased_target'] = df.loc[:, 'density_binary']\n",
    "    df.loc[final_sample_idx, 'biased_target'] = target_class_label\n",
    "\n",
    "    print(df.density_binary.value_counts())\n",
    "    print(df.biased_target.value_counts())\n",
    "\n",
    "\n",
    "    return df"
   ]
  },
  {
   "cell_type": "code",
   "execution_count": 58,
   "id": "1eec1aad",
   "metadata": {},
   "outputs": [
    {
     "name": "stdout",
     "output_type": "stream",
     "text": [
      "number of unique IDS: 1346\n",
      "number of images corresponding to unique IDs = 7590\n",
      "sample: 0.3 of 1346 = 404\n",
      "number of images corresponding to 404 unique IDs = 2383\n",
      "density_binary\n",
      "1    96045\n",
      "0    96045\n",
      "Name: count, dtype: int64\n",
      "biased_target\n",
      "0    98428\n",
      "1    93662\n",
      "Name: count, dtype: int64\n"
     ]
    }
   ],
   "source": [
    "initial_subclass_label = 'C'\n",
    "target_class_label = 0\n",
    "attribute = 'Manufacturer'\n",
    "subgroup = 'GE MEDICAL SYSTEMS'\n",
    "bias_proportion = 0.3\n",
    "\n",
    "df2 = df1.copy()\n",
    "df2 = add_subgroup_label_bias_to_subclass(df2, initial_subclass_label, target_class_label, bias_proportion, attribute, subgroup)"
   ]
  },
  {
   "cell_type": "code",
   "execution_count": null,
   "id": "f9c2ee09",
   "metadata": {},
   "outputs": [],
   "source": [
    "df2.to_csv('/vol/biomedic3/es525/mammo-label-bias/modified_metadata/labelbias_subjectlevel_3manu_gems_c_30.csv')"
   ]
  },
  {
   "cell_type": "code",
   "execution_count": 61,
   "id": "76c7b5d1",
   "metadata": {},
   "outputs": [
    {
     "name": "stdout",
     "output_type": "stream",
     "text": [
      "number of unique IDS: 7184\n",
      "number of images corresponding to unique IDs = 76720\n",
      "sample: 0.3 of 7184 = 2155\n",
      "number of images corresponding to 2155 unique IDs = 22599\n",
      "density_binary\n",
      "1    96045\n",
      "0    96045\n",
      "Name: count, dtype: int64\n",
      "biased_target\n",
      "0    118644\n",
      "1     73446\n",
      "Name: count, dtype: int64\n"
     ]
    }
   ],
   "source": [
    "initial_subclass_label = 'C'\n",
    "target_class_label = 0\n",
    "attribute = 'Manufacturer'\n",
    "subgroup = 'HOLOGIC, Inc.'\n",
    "bias_proportion = 0.3\n",
    "\n",
    "df3 = df1.copy()\n",
    "df3 = add_subgroup_label_bias_to_subclass(df3, initial_subclass_label, target_class_label, bias_proportion, attribute, subgroup)"
   ]
  },
  {
   "cell_type": "code",
   "execution_count": null,
   "id": "84864f69",
   "metadata": {},
   "outputs": [],
   "source": [
    "df3.to_csv('/vol/biomedic3/es525/mammo-label-bias/modified_metadata/labelbias_subjectlevel_3manu_hologic_c_30.csv')"
   ]
  },
  {
   "cell_type": "code",
   "execution_count": 63,
   "id": "bf642b75",
   "metadata": {},
   "outputs": [
    {
     "name": "stdout",
     "output_type": "stream",
     "text": [
      "number of unique IDS: 455\n",
      "number of images corresponding to unique IDs = 2260\n",
      "sample: 0.3 of 455 = 136\n",
      "number of images corresponding to 136 unique IDs = 651\n",
      "density_binary\n",
      "1    96045\n",
      "0    96045\n",
      "Name: count, dtype: int64\n",
      "biased_target\n",
      "0    96696\n",
      "1    95394\n",
      "Name: count, dtype: int64\n"
     ]
    }
   ],
   "source": [
    "initial_subclass_label = 'C'\n",
    "target_class_label = 0\n",
    "attribute = 'Manufacturer'\n",
    "subgroup = 'FUJIFILM Corporation'\n",
    "bias_proportion = 0.3\n",
    "\n",
    "df4 = df1.copy()\n",
    "df4 = add_subgroup_label_bias_to_subclass(df4, initial_subclass_label, target_class_label, bias_proportion, attribute, subgroup)"
   ]
  },
  {
   "cell_type": "code",
   "execution_count": null,
   "id": "7a345d11",
   "metadata": {},
   "outputs": [],
   "source": [
    "df4.to_csv('/vol/biomedic3/es525/mammo-label-bias/modified_metadata/labelbias_subjectlevel_3manu_fuji_c_30.csv')"
   ]
  },
  {
   "cell_type": "markdown",
   "id": "e7252d3a",
   "metadata": {},
   "source": [
    "### pseudo-subgroup label noise"
   ]
  },
  {
   "cell_type": "code",
   "execution_count": 65,
   "id": "f67e8097",
   "metadata": {},
   "outputs": [
    {
     "name": "stdout",
     "output_type": "stream",
     "text": [
      "number of unique IDS: 7123\n",
      "number of images corresponding to unique IDs = 28715\n",
      "sample: 0.3 of 7123 = 2137\n",
      "number of images corresponding to 2137 unique IDs = 8503\n",
      "density_binary\n",
      "1    96045\n",
      "0    96045\n",
      "Name: count, dtype: int64\n",
      "biased_target\n",
      "0    104548\n",
      "1     87542\n",
      "Name: count, dtype: int64\n"
     ]
    }
   ],
   "source": [
    "initial_subclass_label = 'C'\n",
    "target_class_label = 0\n",
    "attribute = 'pseudo_subgroup'\n",
    "subgroup = 0\n",
    "bias_proportion = 0.3\n",
    "\n",
    "df5 = df1.copy()\n",
    "df5 = add_subgroup_label_bias_to_subclass(df5, initial_subclass_label, target_class_label, bias_proportion, attribute, subgroup)"
   ]
  },
  {
   "cell_type": "code",
   "execution_count": null,
   "id": "2a5b8819",
   "metadata": {},
   "outputs": [],
   "source": [
    "df5.to_csv('/vol/biomedic3/es525/mammo-label-bias/modified_metadata/labelbias_subjectlevel_3manu_pseudo0_c_30.csv')"
   ]
  },
  {
   "cell_type": "code",
   "execution_count": null,
   "id": "2811b9c2",
   "metadata": {},
   "outputs": [],
   "source": []
  }
 ],
 "metadata": {
  "kernelspec": {
   "display_name": "mammo",
   "language": "python",
   "name": "python3"
  },
  "language_info": {
   "codemirror_mode": {
    "name": "ipython",
    "version": 3
   },
   "file_extension": ".py",
   "mimetype": "text/x-python",
   "name": "python",
   "nbconvert_exporter": "python",
   "pygments_lexer": "ipython3",
   "version": "3.13.2"
  }
 },
 "nbformat": 4,
 "nbformat_minor": 5
}
